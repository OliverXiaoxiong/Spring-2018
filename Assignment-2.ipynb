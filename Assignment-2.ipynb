{
 "cells": [
  {
   "cell_type": "markdown",
   "metadata": {},
   "source": [
    "# Assignment 2\n",
    "\n",
    "__Due date__: April 25, 2018 at 10 pm\n",
    "__Submission__: IPython notebook to GauchoSpace\n",
    "\n",
    "We have been building up to creating components for a dashboard app in Jupyter notebook:\n",
    "\n",
    "- Data downloading function: `get_nba_data()` in a `03-Data-collection-and-manipulation.ipynb`. \n",
    "- Accessing pandas data frame and creating dictionary structures in `04-Pandas-Data-Frame.ipynb` and `05-Data-Frame-and-Visualization.ipynb`.\n",
    "- Creating widgets for interactivity: `05-Data-Frame-and-Visualization.ipynb`.\n",
    "- Plotting visualizations with Matplotlib and Seaborn: `05-Data-Frame-and-Visualization.ipynb`.\n",
    "\n",
    "We can put these components together to create an interactive dashboard for creating something similar to the R package: https://github.com/toddwschneider/ballr\n",
    "\n",
    "Your assignment is to create an interactive dashboard.\n",
    "\n",
    "It doesn't have to be exactly the same as the package or what I have proposed. If you would like to create another visualization, that would be great as well. I will refer to __default option__ as continuing to do what we started in class: dashboard of shotchart similar to what [BallR package](https://github.com/toddwschneider/ballr) does. I will refer to __open-ended option__ as creating a dashboard of your choice.\n",
    "\n",
    "Below, I specify some necessary components to your dashboard."
   ]
  },
  {
   "cell_type": "markdown",
   "metadata": {},
   "source": [
    "## Problem 1: Data Download\n",
    "\n",
    "__Default option__: you can use the `get_nba_data()` function. No additional work is needed.\n",
    "\n",
    "__Open-ended option__: you can choose to create a different dashboard. \n",
    "\n",
    "If you are familiar with http://stats.nba.com/, some stats pages will directly tell you how the data can be retrieved. For example, the data needed for [Tracking Shots Dashboard](http://stats.nba.com/player/201935/shots-dash/) comes from [this URL](http://stats.nba.com/stats/playerdashptshots?DateFrom=&DateTo=&GameSegment=&LastNGames=0&LeagueID=00&Location=&Month=0&OpponentTeamID=0&Outcome=&PerMode=PerGame&Period=0&PlayerID=201935&Season=2017-18&SeasonSegment=&SeasonType=Playoffs&TeamID=0&VsConference=&VsDivision=). This link can be found under Tools > Developer tools menu (Control-Shift-I) if you are using [Google Chrome](https://www.google.com/chrome/). Once you open Developer tools, you need to reload the page (for F5). Then, go to `Networks` menu under Developer tools pane. Type into the `Filter` text input box, type `stats/`. This will find (if any) GET URL links that we can use. The URL corresponding to the [Tracking Shots Dashboard](http://stats.nba.com/player/201935/shots-dash/) is [here](http://stats.nba.com/stats/playerdashptshots?DateFrom=&DateTo=&GameSegment=&LastNGames=0&LeagueID=00&Location=&Month=0&OpponentTeamID=0&Outcome=&PerMode=PerGame&Period=0&PlayerID=201935&Season=2017-18&SeasonSegment=&SeasonType=Playoffs&TeamID=0&VsConference=&VsDivision=). If you are feeling adventurous, you can use another data to create your dashboard with.\n",
    "\n",
    "There are other interesting data sources: https://schoolofdata.org/2013/11/18/web-apis-for-non-programmers/ (note them some may be out of date since this is from 5 years ago!). If you would like to pursue a completely different data source, you are encouraged to. Keep in mind you want to create some dashboard to automatically update information. I can help you to determine wheter a site can be reverse engineered relatively easily if you choose to pursue this option.\n",
    "\n",
    "Determine the set of parameters for creating an appropriate `param` dictionary. Test if your data download function works as intended."
   ]
  },
  {
   "cell_type": "code",
   "execution_count": null,
   "metadata": {},
   "outputs": [],
   "source": [
    "import pandas as pd\n",
    "\n",
    "def get_nba_data(endpt, params, return_url=False):\n",
    "\n",
    "    ## endpt: https://github.com/seemethere/nba_py/wiki/stats.nba.com-Endpoint-Documentation\n",
    "    ## params: dictionary of parameters: i.e., {'LeagueID':'00'}\n",
    "    \n",
    "    from pandas import DataFrame\n",
    "    from urllib.parse import urlencode\n",
    "    import json\n",
    "    \n",
    "    useragent = \"\\\"Mozilla/5.0 (Macintosh; Intel Mac OS X 10_11_2) AppleWebKit/601.3.9 (KHTML, like Gecko) Version/9.0.2 Safari/601.3.9\\\"\"\n",
    "    dataurl = \"\\\"\" + \"http://stats.nba.com/stats/\" + endpt + \"?\" + urlencode(params) + \"\\\"\"\n",
    "    \n",
    "    # for debugging: just return the url\n",
    "    if return_url:\n",
    "        return(dataurl)\n",
    "    \n",
    "    jsonstr = !wget -q -O - --user-agent={useragent} {dataurl}\n",
    "    \n",
    "    data = json.loads(jsonstr[0])\n",
    "    \n",
    "    h = data['resultSets'][0]['headers']\n",
    "    d = data['resultSets'][0]['rowSet']\n",
    "    \n",
    "    return(DataFrame(d, columns=h))"
   ]
  },
  {
   "cell_type": "code",
   "execution_count": null,
   "metadata": {},
   "outputs": [],
   "source": [
    "params = {\"MeasureType\":\"Base\",\n",
    "          \"PerMode\":\"PerGame\",\n",
    "          \"PlusMinus\":\"N\",\n",
    "          \"PaceAdjust\":\"N\",\n",
    "          \"Rank\":\"N\",\n",
    "          \"LeagueID\":\"00\",\n",
    "          \"Season\":\"2017-18\",\n",
    "          \"SeasonType\":\"Playoffs\",\n",
    "          \"PORound\":\"0\",\n",
    "          \"Outcome\":\"\",\n",
    "          \"Location\":\"\",\n",
    "          \"Month\":\"0\",\n",
    "          \"SeasonSegment\":\"\",\n",
    "          \"DateFrom\":\"\",\n",
    "          \"DateTo\":\"\",\n",
    "          \"OpponentTeamID\":\"0\",\n",
    "          \"VsConference\":\"\",\n",
    "          \"VsDivision\":\"\",\n",
    "          \"TeamID\":\"0\",\n",
    "          \"Conference\":\"\",\n",
    "          \"Division\":\"\",\n",
    "          \"GameSegment\":\"\",\n",
    "          \"Period\":\"0\",\n",
    "          \"ShotClockRange\":\"\",\n",
    "          \"LastNGames\":\"0\",\n",
    "          \"GameScope\":\"\",\n",
    "          \"PlayerExperience\":\"\",\n",
    "          \"PlayerPosition\":\"\",\n",
    "          \"StarterBench\":\"\"}\n",
    "\n",
    "team_Playoffs = get_nba_data('leaguedashteamstats', params)\n",
    "team_Playoffs.head()"
   ]
  },
  {
   "cell_type": "markdown",
   "metadata": {},
   "source": [
    "__We downloaded the general socre board of all teams with Playoffs season type.__"
   ]
  },
  {
   "cell_type": "markdown",
   "metadata": {},
   "source": [
    "## Problem 2: Creating interactive widgets\n",
    "\n",
    "__Default option__: create at least one more widgets (three total) for specifying data downloads. For example, you can change year, opposing team, etc.\n",
    "\n",
    "__Open-ended option__: create at least one widget for specifying data downloads.\n",
    "\n",
    "In this problem, you will simply create widget(s). Next section will be showing how you can combine them."
   ]
  },
  {
   "cell_type": "code",
   "execution_count": null,
   "metadata": {},
   "outputs": [],
   "source": [
    "## get all teams\n",
    "params = {'LeagueID':'00'}\n",
    "teams = get_nba_data('commonTeamYears', params)\n",
    "\n",
    "## get all players\n",
    "params = {'LeagueID':'00', 'Season': '2016-17', 'IsOnlyCurrentSeason': '0'}\n",
    "players = get_nba_data('commonallplayers', params)"
   ]
  },
  {
   "cell_type": "code",
   "execution_count": null,
   "metadata": {},
   "outputs": [],
   "source": [
    "teams.head()"
   ]
  },
  {
   "cell_type": "code",
   "execution_count": null,
   "metadata": {},
   "outputs": [],
   "source": [
    "players.head()"
   ]
  },
  {
   "cell_type": "code",
   "execution_count": null,
   "metadata": {},
   "outputs": [],
   "source": [
    "team_names = players[['TEAM_ABBREVIATION', 'TEAM_CODE']].drop_duplicates()\n",
    "teams_clean = teams.copy()\n",
    "teams = pd.merge(teams_clean, team_names, left_on='ABBREVIATION', right_on='TEAM_ABBREVIATION')"
   ]
  },
  {
   "cell_type": "code",
   "execution_count": null,
   "metadata": {},
   "outputs": [],
   "source": [
    "teams.TEAM_CODE = teams.TEAM_CODE.str.capitalize() # returns values so needs to be reassigned\n",
    "teams.sort_values('ABBREVIATION', inplace=True)    # modifies object\n",
    "teams.tail()"
   ]
  },
  {
   "cell_type": "code",
   "execution_count": null,
   "metadata": {},
   "outputs": [],
   "source": [
    "team_dd_text = teams.ABBREVIATION+', '+teams.TEAM_CODE\n",
    "team_dd = dict(zip(team_dd_text, teams.TEAM_ID))\n",
    "team_dd"
   ]
  },
  {
   "cell_type": "code",
   "execution_count": null,
   "metadata": {},
   "outputs": [],
   "source": [
    "plyr_by_team_dd = dict()\n",
    "\n",
    "for t, p in players.groupby('TEAM_ID'):\n",
    "    \n",
    "    plyr_by_team_dd[t] = dict(zip(p.DISPLAY_LAST_COMMA_FIRST, p.PERSON_ID))\n",
    "    \n",
    "plyr_by_team_dd"
   ]
  },
  {
   "cell_type": "markdown",
   "metadata": {},
   "source": [
    "__We donwnload and combine the score board with four different season type together using `pd.concat()`__"
   ]
  },
  {
   "cell_type": "code",
   "execution_count": null,
   "metadata": {},
   "outputs": [],
   "source": [
    "Season_Type = [\"Pre Season\",\"Regular Season\",\"Playoffs\",\"All Star\"]\n",
    "frames = [] # create an empty dataframe\n",
    "\n",
    "for i in Season_Type:\n",
    "    params = {\"MeasureType\":\"Base\", \"PerMode\":\"PerGame\", \"PlusMinus\":\"N\", \"PaceAdjust\":\"N\",\n",
    "              \"Rank\":\"N\", \"LeagueID\":\"00\", \"Season\":\"2017-18\", \"SeasonType\": i, \"PORound\":\"0\",\n",
    "              \"Outcome\":\"\", \"Location\":\"\", \"Month\":\"0\", \"SeasonSegment\":\"\", \"DateFrom\":\"\", \n",
    "              \"DateTo\":\"\", \"OpponentTeamID\":\"0\", \"VsConference\":\"\", \"VsDivision\":\"\", \"TeamID\":\"0\",\n",
    "              \"Conference\":\"\", \"Division\":\"\", \"GameSegment\":\"\", \"Period\":\"0\", \"ShotClockRange\":\"\",\n",
    "              \"LastNGames\":\"0\", \"GameScope\":\"\", \"PlayerExperience\":\"\", \"PlayerPosition\":\"\",\n",
    "              \"StarterBench\":\"\"}\n",
    "\n",
    "    team_data = get_nba_data('leaguedashteamstats', params)\n",
    "    team_data[\"SEASON_TYPE\"] = i\n",
    "    frames.append(team_data)\n",
    "\n",
    "season_dd = pd.concat(frames) # combine data of different season type\n",
    "season_dd.head()"
   ]
  },
  {
   "cell_type": "code",
   "execution_count": null,
   "metadata": {},
   "outputs": [],
   "source": [
    "params = {\"MeasureType\":\"Base\", \"PerMode\":\"PerGame\", \"PlusMinus\":\"N\", \"PaceAdjust\":\"N\",\n",
    "              \"Rank\":\"N\", \"LeagueID\":\"00\", \"Season\":\"2017-18\", \"SeasonType\": \"All Star\", \"PORound\":\"0\",\n",
    "              \"Outcome\":\"\", \"Location\":\"\", \"Month\":\"0\", \"SeasonSegment\":\"\", \"DateFrom\":\"\", \n",
    "              \"DateTo\":\"\", \"OpponentTeamID\":\"0\", \"VsConference\":\"\", \"VsDivision\":\"\", \"TeamID\":\"0\",\n",
    "              \"Conference\":\"\", \"Division\":\"\", \"GameSegment\":\"\", \"Period\":\"0\", \"ShotClockRange\":\"\",\n",
    "              \"LastNGames\":\"0\", \"GameScope\":\"\", \"PlayerExperience\":\"\", \"PlayerPosition\":\"\",\n",
    "              \"StarterBench\":\"\"}\n",
    "\n",
    "team_allstar = get_nba_data('leaguedashteamstats', params)\n",
    "team_allstar # We find that there is not All-Star data"
   ]
  },
  {
   "cell_type": "markdown",
   "metadata": {},
   "source": [
    "__However, we find that there is no data with All-Star during this season. Then, we change the data type of `TEAM_ID` to combine with other data later.__"
   ]
  },
  {
   "cell_type": "code",
   "execution_count": null,
   "metadata": {},
   "outputs": [],
   "source": [
    "print(season_dd.TEAM_ID.dtype) "
   ]
  },
  {
   "cell_type": "code",
   "execution_count": null,
   "metadata": {},
   "outputs": [],
   "source": [
    "season_dd.TEAM_ID = season_dd.TEAM_ID.astype('int')\n",
    "print(season_dd.TEAM_ID.dtype)"
   ]
  },
  {
   "cell_type": "markdown",
   "metadata": {},
   "source": [
    "__We filter `season_dd` whose `TEAM_ID` are also in `teams`.__"
   ]
  },
  {
   "cell_type": "code",
   "execution_count": null,
   "metadata": {},
   "outputs": [],
   "source": [
    "season_dd = season_dd[season_dd.TEAM_ID.isin(teams.TEAM_ID)]\n",
    "season_dd.tail()"
   ]
  },
  {
   "cell_type": "markdown",
   "metadata": {},
   "source": [
    "__We want to create a widget that shows the win rate of each teams with different season types.__"
   ]
  },
  {
   "cell_type": "code",
   "execution_count": null,
   "metadata": {},
   "outputs": [],
   "source": [
    "W_PCT_by_season = dict()\n",
    "\n",
    "for i, j in season_dd.groupby('TEAM_ID'):\n",
    "    \n",
    "    W_PCT_by_season[i] = dict(zip(j.SEASON_TYPE, j.W_PCT)) # Win rate by different season type\n",
    "\n",
    "W_PCT_by_season"
   ]
  },
  {
   "cell_type": "code",
   "execution_count": null,
   "metadata": {},
   "outputs": [],
   "source": [
    "from ipywidgets import interact, FloatSlider, Dropdown, Button\n",
    "\n",
    "selected = 'LAC, Clippers'\n",
    "\n",
    "team_menu = Dropdown(options=team_dd, label=selected)\n",
    "plyr_menu = Dropdown(options=plyr_by_team_dd[team_dd[selected]])\n",
    "W_PCT_menu = Dropdown(options=W_PCT_by_season[team_dd[selected]])\n",
    "\n",
    "display(team_menu, plyr_menu, W_PCT_menu)"
   ]
  },
  {
   "cell_type": "code",
   "execution_count": null,
   "metadata": {},
   "outputs": [],
   "source": [
    "W_PCT_by_season[team_dd[selected]]"
   ]
  },
  {
   "cell_type": "markdown",
   "metadata": {},
   "source": [
    "## Problem 3: Downloading data with changing widget states\n",
    "\n",
    "__Both options__: Add event handlers (`observe`, `on_click`, etc) to be called when some widget changes to another state. Make sure this works as expected."
   ]
  },
  {
   "cell_type": "code",
   "execution_count": null,
   "metadata": {},
   "outputs": [],
   "source": [
    "selected = 'LAC, Clippers'\n",
    "\n",
    "team_menu = Dropdown(options=team_dd, label=selected)\n",
    "plyr_menu = Dropdown(options=plyr_by_team_dd[team_dd[selected]])\n",
    "W_PCT_menu = Dropdown(options=W_PCT_by_season[team_dd[selected]])\n",
    "fetch_button = Button(description='Get Data!', icon='check')\n",
    "\n",
    "display(team_menu, plyr_menu, W_PCT_menu, fetch_button)\n",
    "\n",
    "## update players list\n",
    "def update_team(change):\n",
    "    plyr_menu.index = None\n",
    "    W_PCT_menu.index = None\n",
    "    plyr_menu.options = plyr_by_team_dd[change['new']]\n",
    "    W_PCT_menu.options = W_PCT_by_season[change['new']]\n",
    "\n",
    "team_menu.observe(update_team, names='value')\n",
    "\n",
    "## get data action\n",
    "def get_data(change):\n",
    "    print(team_menu.value, plyr_menu.value)\n",
    "    print('WIN RATE IS:', W_PCT_menu.value)\n",
    "\n",
    "    \n",
    "fetch_button.on_click(get_data)"
   ]
  },
  {
   "cell_type": "markdown",
   "metadata": {},
   "source": [
    "## Problem 4: Data transformation and visualization\n",
    "\n",
    "__Default option__: create at least two data transformation using split-apply-combine approach. Some ideas are, \n",
    "\n",
    "- What is the shooting average against different teams? You would split based on opposing team, compute the average, and plot a bar chart. \n",
    "\n",
    "- What is the shooting average over different periods per game? You would split based on periods and game, then plot the changing shooting average over periods. Is this helpful? Why? Why not?\n",
    "\n",
    "- Any other setting in which you would need to split-apply-combine to calculate a summary statistic.\n",
    "\n",
    "- A setting of your choosing\n",
    "\n",
    "Plot your result\n",
    "\n",
    "__Open-ended option__: create at least one data transformation using split-apply-combine approach.\n",
    "\n",
    "Plot your result"
   ]
  },
  {
   "cell_type": "code",
   "execution_count": null,
   "metadata": {},
   "outputs": [],
   "source": [
    "params = {'PlayerID':'202344',\n",
    "          'PlayerPosition':'',\n",
    "          'Season':'2016-17',\n",
    "          'ContextMeasure':'FGA',\n",
    "          'DateFrom':'',\n",
    "          'DateTo':'',\n",
    "          'GameID':'',\n",
    "          'GameSegment':'',\n",
    "          'LastNGames':'0',\n",
    "          'LeagueID':'00',\n",
    "          'Location':'',\n",
    "          'Month':'0',\n",
    "          'OpponentTeamID':'0',\n",
    "          'Outcome':'',\n",
    "          'Period':'0',\n",
    "          'Position':'',\n",
    "          'RookieYear':'',\n",
    "          'SeasonSegment':'',\n",
    "          'SeasonType':'Regular Season',\n",
    "          'TeamID':'0',\n",
    "          'VsConference':'',\n",
    "          'VsDivision':''}\n",
    "\n",
    "shotdata = get_nba_data('shotchartdetail', params)\n",
    "shotdata.head()"
   ]
  },
  {
   "cell_type": "code",
   "execution_count": null,
   "metadata": {},
   "outputs": [],
   "source": [
    "list(shotdata)"
   ]
  },
  {
   "cell_type": "markdown",
   "metadata": {},
   "source": [
    "__We split data by `GAME_DATE`, calcluate percentage of shot made flage using `mean()`, and plot the transformed data.__"
   ]
  },
  {
   "cell_type": "code",
   "execution_count": null,
   "metadata": {},
   "outputs": [],
   "source": [
    "%matplotlib inline\n",
    "import matplotlib.pyplot as plt\n",
    "\n",
    "plt.figure(figsize=(12,11))\n",
    "\n",
    "SHOT_MADE_PCT = shotdata.groupby(\"GAME_DATE\")['SHOT_MADE_FLAG'].mean()\n",
    "\n",
    "plt.title(\"Ratio of Shot Made Flag by Date\")\n",
    "plt.xlabel(\"Date\")\n",
    "plt.ylabel(\"Percentage\")\n",
    "SHOT_MADE_PCT.plot.bar()\n",
    "plt.show()"
   ]
  },
  {
   "cell_type": "markdown",
   "metadata": {},
   "source": [
    "__In terms of this histgram, we find that Trevor Booker has the highest rate to make shots in April 2nd, 2017.__"
   ]
  },
  {
   "cell_type": "markdown",
   "metadata": {},
   "source": [
    "__The second transformation is count the shot made flag by its action types.__"
   ]
  },
  {
   "cell_type": "code",
   "execution_count": null,
   "metadata": {},
   "outputs": [],
   "source": [
    "%matplotlib inline\n",
    "import matplotlib.pyplot as plt\n",
    "\n",
    "plt.figure(figsize=(12,11))\n",
    "\n",
    "NUM_OF_SHOT_ATTEMPTED = shotdata.groupby(\"ACTION_TYPE\")['SHOT_MADE_FLAG'].sum()\n",
    "\n",
    "NUM_OF_SHOT_ATTEMPTED.plot.bar()\n",
    "plt.title(\"Number of Shot Attempted Flag by Action Type\")\n",
    "plt.xlabel(\"Action Type\")\n",
    "plt.ylabel(\"Number of Shot\")\n",
    "plt.show()"
   ]
  },
  {
   "cell_type": "markdown",
   "metadata": {},
   "source": [
    "__According to the histgram, me conclude that Trevor Booker prefers Jump shot and Lay up shot.__"
   ]
  },
  {
   "cell_type": "markdown",
   "metadata": {},
   "source": [
    "## Notes\n",
    "\n",
    "- Open-ended option will be a lot more work; however, you can use this towards building up your final projects if you so choose. \n",
    "\n",
    "- Label figures, and explain your steps. PSTAT 234 students' work are expected to be more refined.\n",
    "\n",
    "- Exceptional assignments will receive extra credit."
   ]
  }
 ],
 "metadata": {
  "language_info": {
   "name": "python",
   "pygments_lexer": "ipython3"
  }
 },
 "nbformat": 4,
 "nbformat_minor": 2
}
