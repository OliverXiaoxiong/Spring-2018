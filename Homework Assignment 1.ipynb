{
 "cells": [
  {
   "cell_type": "markdown",
   "metadata": {},
   "source": [
    "# Homework Assignment 1\n",
    "__Xiaoxiong Xu__  \n",
    "__PSTAT 134__  \n",
    "__April 11, 2018__  "
   ]
  },
  {
   "cell_type": "markdown",
   "metadata": {},
   "source": [
    "## Simulation of Markov Chain"
   ]
  },
  {
   "cell_type": "markdown",
   "metadata": {},
   "source": [
    "We will simulate an irreducible Markov Chain, which means we start at each state in the chain and it will return back to itself with non-zero probability. Suppose we have state space $\\mathbb{M} = \\{,...,9\\}$. Then, we can create a $9 \\times 9$ Markov Chain Matrix: \n",
    "\n",
    "$$\\begin{bmatrix}\n",
    "    p_{1,1} & p_{1,2} & \\dots & p_{1,9} \\\\\n",
    "    p_{2,1} & p_{2,2} & \\dots & x_{2,9} \\\\\n",
    "    \\vdots  & \\vdots  & \\ddots& \\vdots \\\\\n",
    "    p_{9,1} & p_{9,2} &\\dots & p_{5,9}\n",
    "\\end{bmatrix}$$\n",
    "\n",
    "where $p_{i,j}$ is the probability that starts in $S_i$ to $S_j$ for all $i,j \\in \\mathbb{M}$, and $p_{i,j} \\in [0,1]$. We can also easily consider row as the state you start, and the columns are the states you can get to."
   ]
  },
  {
   "cell_type": "code",
   "execution_count": 194,
   "metadata": {},
   "outputs": [
    {
     "data": {
      "text/plain": [
       "(9, 9)"
      ]
     },
     "execution_count": 194,
     "metadata": {},
     "output_type": "execute_result"
    }
   ],
   "source": [
    "import numpy as np\n",
    "import random\n",
    "\n",
    "def Markov_Matrix(t):\n",
    "    n = max(t) + 1 #number of states\n",
    "\n",
    "    p = np.empty((n,n,)); p.fill(0)\n",
    "\n",
    "    for (i,j) in zip(t,t[1:]):\n",
    "        p[i][j] += 1\n",
    "\n",
    "    #convert to probabilities:\n",
    "    for row in p:\n",
    "        total = sum(row)\n",
    "        if total > 0:\n",
    "            row[:] = [x/total for x in row]\n",
    "    return p\n",
    "\n",
    "transitions = [1,1,2,6,8,5,5,7,8,8,1,1,4,5,5,0,0,0,1,1,4,4,5,1,3,3,4,5,4,1,1]\n",
    "matrix = Markov_Matrix(transitions)\n",
    "matrix = np.asmatrix(matrix)\n",
    "matrix.shape"
   ]
  },
  {
   "cell_type": "code",
   "execution_count": 195,
   "metadata": {},
   "outputs": [
    {
     "data": {
      "text/plain": [
       "matrix([[ 0.66666667,  0.33333333,  0.        ,  0.        ,  0.        ,\n",
       "          0.        ,  0.        ,  0.        ,  0.        ],\n",
       "        [ 0.        ,  0.5       ,  0.125     ,  0.125     ,  0.25      ,\n",
       "          0.        ,  0.        ,  0.        ,  0.        ],\n",
       "        [ 0.        ,  0.        ,  0.        ,  0.        ,  0.        ,\n",
       "          0.        ,  1.        ,  0.        ,  0.        ],\n",
       "        [ 0.        ,  0.        ,  0.        ,  0.5       ,  0.5       ,\n",
       "          0.        ,  0.        ,  0.        ,  0.        ],\n",
       "        [ 0.        ,  0.2       ,  0.        ,  0.        ,  0.2       ,\n",
       "          0.6       ,  0.        ,  0.        ,  0.        ],\n",
       "        [ 0.16666667,  0.16666667,  0.        ,  0.        ,  0.16666667,\n",
       "          0.33333333,  0.        ,  0.16666667,  0.        ],\n",
       "        [ 0.        ,  0.        ,  0.        ,  0.        ,  0.        ,\n",
       "          0.        ,  0.        ,  0.        ,  1.        ],\n",
       "        [ 0.        ,  0.        ,  0.        ,  0.        ,  0.        ,\n",
       "          0.        ,  0.        ,  0.        ,  1.        ],\n",
       "        [ 0.        ,  0.33333333,  0.        ,  0.        ,  0.        ,\n",
       "          0.33333333,  0.        ,  0.        ,  0.33333333]])"
      ]
     },
     "execution_count": 195,
     "metadata": {},
     "output_type": "execute_result"
    }
   ],
   "source": [
    "matrix"
   ]
  },
  {
   "cell_type": "code",
   "execution_count": 196,
   "metadata": {},
   "outputs": [
    {
     "data": {
      "text/plain": [
       "array([[ 0.,  1.,  0.,  0.,  0.,  0.,  0.,  0.,  0.]])"
      ]
     },
     "execution_count": 196,
     "metadata": {},
     "output_type": "execute_result"
    }
   ],
   "source": [
    "# create a array with all zero, and set the second element to 1.0.\n",
    "vector = np.empty((1,9,)); vector.fill(0)\n",
    "vector[0,][1] = 1\n",
    "vector"
   ]
  },
  {
   "cell_type": "code",
   "execution_count": 197,
   "metadata": {},
   "outputs": [
    {
     "data": {
      "text/plain": [
       "matrix([[ 0.,  1.,  0.,  0.,  0.,  0.,  0.,  0.,  0.]])"
      ]
     },
     "execution_count": 197,
     "metadata": {},
     "output_type": "execute_result"
    }
   ],
   "source": [
    "vector = np.asmatrix(vector)\n",
    "vector"
   ]
  },
  {
   "cell_type": "markdown",
   "metadata": {},
   "source": [
    "By using the Markov property: only the last state influences the next state\n",
    "$$p_{ij} = Pr\\{S_{n+1} = j | S_n = i, S_{n-1} = a, ..., S_0 = z\\} = Pr\\{S_{n+1} = j | S_n = i\\} = vector \\times matrix^n$$\n"
   ]
  },
  {
   "cell_type": "code",
   "execution_count": 198,
   "metadata": {},
   "outputs": [],
   "source": [
    "prob = []\n",
    "for i in range(50):\n",
    "    p = vector * matrix ** i\n",
    "    prob.append(np.array(p).flatten())\n",
    "\n",
    "prob = np.array(prob)"
   ]
  },
  {
   "cell_type": "code",
   "execution_count": 199,
   "metadata": {},
   "outputs": [
    {
     "data": {
      "text/plain": [
       "array([[ 0.        ,  1.        ,  0.        ,  0.        ,  0.        ,\n",
       "         0.        ,  0.        ,  0.        ,  0.        ],\n",
       "       [ 0.        ,  0.5       ,  0.125     ,  0.125     ,  0.25      ,\n",
       "         0.        ,  0.        ,  0.        ,  0.        ],\n",
       "       [ 0.        ,  0.3       ,  0.0625    ,  0.125     ,  0.2375    ,\n",
       "         0.15      ,  0.125     ,  0.        ,  0.        ],\n",
       "       [ 0.025     ,  0.2225    ,  0.0375    ,  0.1       ,  0.21      ,\n",
       "         0.1925    ,  0.0625    ,  0.025     ,  0.125     ],\n",
       "       [ 0.04875   ,  0.23533333,  0.0278125 ,  0.0778125 ,  0.17970833,\n",
       "         0.23183333,  0.0375    ,  0.03208333,  0.12916667],\n",
       "       [ 0.07113889,  0.25155278,  0.02941667,  0.06832292,  0.17232014,\n",
       "         0.22815833,  0.0278125 ,  0.03863889,  0.11263889],\n",
       "       [ 0.08545231,  0.25952606,  0.0314441 ,  0.06560556,  0.16954007,\n",
       "         0.21699116,  0.02941667,  0.03802639,  0.10399769],\n",
       "       [ 0.0931334 ,  0.26298624,  0.03244076,  0.06524354,  0.1677575 ,\n",
       "         0.20872032,  0.0314441 ,  0.03616519,  0.10210895],\n",
       "       [ 0.09687566,  0.26491212,  0.03287328,  0.06549505,  0.16670655,\n",
       "         0.20426426,  0.03244076,  0.03478672,  0.10164561],\n",
       "       [ 0.09862781,  0.26601517,  0.03311402,  0.06586154,  0.16636091,\n",
       "         0.20199388,  0.03287328,  0.03404404,  0.10110935],\n",
       "       [ 0.09941752,  0.26652447,  0.0332519 ,  0.06618267,  0.16637239,\n",
       "         0.20085096,  0.03311402,  0.03366565,  0.10062044],\n",
       "       [ 0.09975351,  0.26669119,  0.03331556,  0.06640689,  0.16647209,\n",
       "         0.2003139 ,  0.0332519 ,  0.03347516,  0.10031981],\n",
       "       [ 0.09988799,  0.26671677,  0.0333364 ,  0.06653984,  0.16655631,\n",
       "         0.20009449,  0.03331556,  0.03338565,  0.10016699],\n",
       "       [ 0.09994107,  0.26670372,  0.0333396 ,  0.06660952,  0.16660946,\n",
       "         0.20002095,  0.0333364 ,  0.03334908,  0.10009021],\n",
       "       [ 0.09996421,  0.26668767,  0.03333797,  0.06664272,  0.16663941,\n",
       "         0.20000273,  0.0333396 ,  0.03333682,  0.10004888],\n",
       "       [ 0.09997659,  0.26667653,  0.03333596,  0.06665732,  0.16665495,\n",
       "         0.20000085,  0.03333797,  0.03333379,  0.10002605],\n",
       "       [ 0.09998454,  0.26667028,  0.03333457,  0.06666323,  0.16666226,\n",
       "         0.20000193,  0.03333596,  0.03333347,  0.10001377],\n",
       "       [ 0.09999001,  0.26666735,  0.03333378,  0.0666654 ,  0.16666529,\n",
       "         0.20000259,  0.03333457,  0.03333366,  0.10000736],\n",
       "       [ 0.09999377,  0.26666629,  0.03333342,  0.06666612,  0.16666636,\n",
       "         0.20000249,  0.03333378,  0.03333376,  0.10000401],\n",
       "       [ 0.09999626,  0.26666609,  0.03333329,  0.06666634,  0.16666665,\n",
       "         0.20000198,  0.03333342,  0.03333375,  0.10000222],\n",
       "       [ 0.09999784,  0.2666662 ,  0.03333326,  0.06666643,  0.16666669,\n",
       "         0.20000139,  0.03333329,  0.03333366,  0.10000124],\n",
       "       [ 0.09999879,  0.26666636,  0.03333327,  0.06666649,  0.16666667,\n",
       "         0.20000089,  0.03333326,  0.03333356,  0.1000007 ],\n",
       "       [ 0.09999934,  0.26666649,  0.0333333 ,  0.06666654,  0.16666665,\n",
       "         0.20000053,  0.03333327,  0.03333348,  0.10000039],\n",
       "       [ 0.09999965,  0.26666658,  0.03333331,  0.06666658,  0.16666665,\n",
       "         0.2000003 ,  0.0333333 ,  0.03333342,  0.10000022],\n",
       "       [ 0.09999982,  0.26666662,  0.03333332,  0.06666661,  0.16666665,\n",
       "         0.20000016,  0.03333331,  0.03333338,  0.10000012],\n",
       "       [ 0.0999999 ,  0.26666665,  0.03333333,  0.06666663,  0.16666665,\n",
       "         0.20000008,  0.03333332,  0.03333336,  0.10000007],\n",
       "       [ 0.09999995,  0.26666666,  0.03333333,  0.06666665,  0.16666666,\n",
       "         0.20000004,  0.03333333,  0.03333335,  0.10000004],\n",
       "       [ 0.09999997,  0.26666666,  0.03333333,  0.06666666,  0.16666666,\n",
       "         0.20000002,  0.03333333,  0.03333334,  0.10000002],\n",
       "       [ 0.09999999,  0.26666667,  0.03333333,  0.06666666,  0.16666666,\n",
       "         0.20000001,  0.03333333,  0.03333334,  0.10000001],\n",
       "       [ 0.09999999,  0.26666667,  0.03333333,  0.06666666,  0.16666666,\n",
       "         0.20000001,  0.03333333,  0.03333334,  0.10000001],\n",
       "       [ 0.1       ,  0.26666667,  0.03333333,  0.06666667,  0.16666667,\n",
       "         0.2       ,  0.03333333,  0.03333333,  0.1       ],\n",
       "       [ 0.1       ,  0.26666667,  0.03333333,  0.06666667,  0.16666667,\n",
       "         0.2       ,  0.03333333,  0.03333333,  0.1       ],\n",
       "       [ 0.1       ,  0.26666667,  0.03333333,  0.06666667,  0.16666667,\n",
       "         0.2       ,  0.03333333,  0.03333333,  0.1       ],\n",
       "       [ 0.1       ,  0.26666667,  0.03333333,  0.06666667,  0.16666667,\n",
       "         0.2       ,  0.03333333,  0.03333333,  0.1       ],\n",
       "       [ 0.1       ,  0.26666667,  0.03333333,  0.06666667,  0.16666667,\n",
       "         0.2       ,  0.03333333,  0.03333333,  0.1       ],\n",
       "       [ 0.1       ,  0.26666667,  0.03333333,  0.06666667,  0.16666667,\n",
       "         0.2       ,  0.03333333,  0.03333333,  0.1       ],\n",
       "       [ 0.1       ,  0.26666667,  0.03333333,  0.06666667,  0.16666667,\n",
       "         0.2       ,  0.03333333,  0.03333333,  0.1       ],\n",
       "       [ 0.1       ,  0.26666667,  0.03333333,  0.06666667,  0.16666667,\n",
       "         0.2       ,  0.03333333,  0.03333333,  0.1       ],\n",
       "       [ 0.1       ,  0.26666667,  0.03333333,  0.06666667,  0.16666667,\n",
       "         0.2       ,  0.03333333,  0.03333333,  0.1       ],\n",
       "       [ 0.1       ,  0.26666667,  0.03333333,  0.06666667,  0.16666667,\n",
       "         0.2       ,  0.03333333,  0.03333333,  0.1       ],\n",
       "       [ 0.1       ,  0.26666667,  0.03333333,  0.06666667,  0.16666667,\n",
       "         0.2       ,  0.03333333,  0.03333333,  0.1       ],\n",
       "       [ 0.1       ,  0.26666667,  0.03333333,  0.06666667,  0.16666667,\n",
       "         0.2       ,  0.03333333,  0.03333333,  0.1       ],\n",
       "       [ 0.1       ,  0.26666667,  0.03333333,  0.06666667,  0.16666667,\n",
       "         0.2       ,  0.03333333,  0.03333333,  0.1       ],\n",
       "       [ 0.1       ,  0.26666667,  0.03333333,  0.06666667,  0.16666667,\n",
       "         0.2       ,  0.03333333,  0.03333333,  0.1       ],\n",
       "       [ 0.1       ,  0.26666667,  0.03333333,  0.06666667,  0.16666667,\n",
       "         0.2       ,  0.03333333,  0.03333333,  0.1       ],\n",
       "       [ 0.1       ,  0.26666667,  0.03333333,  0.06666667,  0.16666667,\n",
       "         0.2       ,  0.03333333,  0.03333333,  0.1       ],\n",
       "       [ 0.1       ,  0.26666667,  0.03333333,  0.06666667,  0.16666667,\n",
       "         0.2       ,  0.03333333,  0.03333333,  0.1       ],\n",
       "       [ 0.1       ,  0.26666667,  0.03333333,  0.06666667,  0.16666667,\n",
       "         0.2       ,  0.03333333,  0.03333333,  0.1       ],\n",
       "       [ 0.1       ,  0.26666667,  0.03333333,  0.06666667,  0.16666667,\n",
       "         0.2       ,  0.03333333,  0.03333333,  0.1       ],\n",
       "       [ 0.1       ,  0.26666667,  0.03333333,  0.06666667,  0.16666667,\n",
       "         0.2       ,  0.03333333,  0.03333333,  0.1       ]])"
      ]
     },
     "execution_count": 199,
     "metadata": {},
     "output_type": "execute_result"
    }
   ],
   "source": [
    "prob"
   ]
  },
  {
   "cell_type": "code",
   "execution_count": 200,
   "metadata": {},
   "outputs": [
    {
     "data": {
      "image/png": "[encoded data removed]",
      "text/plain": [
       "<Figure size 792x648 with 1 Axes>"
      ]
     },
     "metadata": {},
     "output_type": "display_data"
    }
   ],
   "source": [
    "%matplotlib inline\n",
    "import seaborn; seaborn.set()  # set plot style\n",
    "from IPython.core.pylabtools import figsize\n",
    "figsize(11, 9)\n",
    "plt.xlabel('Steps')\n",
    "plt.ylabel('Probability')\n",
    "list = []\n",
    "for i in range(9):\n",
    "    data, = plt.plot(prob[:, i], color = plt.cm.RdYlBu(i/10), label=\"State %i\" % (i+1))\n",
    "    list.append(data)\n",
    "plt.legend(handles=list, loc=1)\n",
    "plt.show()"
   ]
  },
  {
   "cell_type": "markdown",
   "metadata": {},
   "source": [
    "According to the plot, we notice that the Markov Chain has reached stationary distribution after 15 steps, and $S_2$ has the highest probaiblity."
   ]
  },
  {
   "cell_type": "code",
   "execution_count": 10,
   "metadata": {},
   "outputs": [
    {
     "name": "stdout",
     "output_type": "stream",
     "text": [
      "93\n"
     ]
    }
   ],
   "source": [
    "import random\n",
    "import numpy\n",
    "\n",
    "M=numpy.zeros((52,52),dtype=int)\n",
    "z=0\n",
    "State_Space=[]\n",
    "\n",
    "for i in range(1,100):\n",
    "    x=random.randint(1,50)\n",
    "    y=random.randint(1,50)\n",
    "\n",
    "    T=M.copy()\n",
    "    if T[x][y]==1:\n",
    "        T[x][y]=0\n",
    "    if T[x][y]==0:\n",
    "        T[x][y]=1\n",
    "\n",
    "    if not any(numpy.array_equal(T, X) for X in State_Space):\n",
    "        if T[x+1][y+1]==0 and T[x+1][y-1]==0 and T[x-1][y-1]==0 and T[x-1][y+1]==0:\n",
    "            State_Space.append(T)\n",
    "            M=T\n",
    "    else:\n",
    "        if T[x+1][y+1]==0 and T[x+1][y-1]==0 and T[x-1][y-1]==0 and T[x-1][y+1]==0:\n",
    "            M=T\n",
    "print(len(State_Space))"
   ]
  },
  {
   "cell_type": "code",
   "execution_count": 4,
   "metadata": {},
   "outputs": [
    {
     "name": "stdout",
     "output_type": "stream",
     "text": [
      "3.13892\n"
     ]
    }
   ],
   "source": [
    "import numpy as np \n",
    "import random\n",
    "\n",
    "N=100000\n",
    "a=np.random.rand(N)\n",
    "b=np.random.rand(N)\n",
    "c=(a**2+b**2)**(1/2)\n",
    "\n",
    "for i in range(len(c)):\n",
    "    if c[i]>1:\n",
    "        c[i]=0\n",
    "    else:\n",
    "        c[i]=1\n",
    "\n",
    "d=np.sum(c)\n",
    "pi=(d/N)*4\n",
    "print(pi)"
   ]
  },
  {
   "cell_type": "code",
   "execution_count": null,
   "metadata": {},
   "outputs": [],
   "source": []
  },
  {
   "cell_type": "code",
   "execution_count": null,
   "metadata": {},
   "outputs": [],
   "source": []
  }
 ],
 "metadata": {
  "kernelspec": {
   "display_name": "Python 3",
   "language": "python",
   "name": "python3"
  },
  "language_info": {
   "codemirror_mode": {
    "name": "ipython",
    "version": 3
   },
   "file_extension": ".py",
   "mimetype": "text/x-python",
   "name": "python",
   "nbconvert_exporter": "python",
   "pygments_lexer": "ipython3",
   "version": "3.6.3"
  }
 },
 "nbformat": 4,
 "nbformat_minor": 2
}
