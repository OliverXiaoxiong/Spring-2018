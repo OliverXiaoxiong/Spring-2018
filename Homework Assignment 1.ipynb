{
 "cells": [
  {
   "cell_type": "markdown",
   "metadata": {},
   "source": [
    "# Homework Assignment 1\n",
    "__Xiaoxiong Xu__  \n",
    "__PSTAT 134__  \n",
    "__April 11, 2018__  "
   ]
  },
  {
   "cell_type": "markdown",
   "metadata": {},
   "source": [
    "## Simulation of Markov Chain"
   ]
  },
  {
   "cell_type": "markdown",
   "metadata": {},
   "source": [
    "We will simulate an irreducible Markov Chain, which means we start at each state in the chain and it will return back to itself with non-zero probability. Suppose we have state space $\\mathbb{M} = \\{,...,9\\}$. Then, we can create a $9 \\times 9$ Markov Chain Matrix: \n",
    "\n",
    "$$\\begin{bmatrix}\n",
    "    p_{1,1} & p_{1,2} & \\dots & p_{1,9} \\\\\n",
    "    p_{2,1} & p_{2,2} & \\dots & x_{2,9} \\\\\n",
    "    \\vdots  & \\vdots  & \\ddots& \\vdots \\\\\n",
    "    p_{9,1} & p_{9,2} &\\dots & p_{5,9}\n",
    "\\end{bmatrix}$$\n",
    "\n",
    "where $p_{i,j}$ is the probability that starts in $S_i$ to $S_j$ for all $i,j \\in \\mathbb{M}$, and $p_{i,j} \\in [0,1]$. We can also easily consider row as the state you start, and the columns are the states you can get to."
   ]
  },
  {
   "cell_type": "code",
   "execution_count": null,
   "metadata": {},
   "outputs": [],
   "source": [
    "import numpy as np\n",
    "import random\n",
    "\n",
    "def Markov_Matrix(t):\n",
    "    n = max(t) + 1 #number of states\n",
    "\n",
    "    p = np.empty((n,n,)); p.fill(0)\n",
    "\n",
    "    for (i,j) in zip(t,t[1:]):\n",
    "        p[i][j] += 1\n",
    "\n",
    "    #convert to probabilities:\n",
    "    for row in p:\n",
    "        total = sum(row)\n",
    "        if total > 0:\n",
    "            row[:] = [x/total for x in row]\n",
    "    return p\n",
    "\n",
    "transitions = [1,1,2,6,8,5,5,7,8,8,1,1,4,5,5,0,0,0,1,1,4,4,5,1,3,3,4,5,4,1,1]\n",
    "matrix = Markov_Matrix(transitions)\n",
    "matrix = np.asmatrix(matrix)\n",
    "matrix.shape"
   ]
  },
  {
   "cell_type": "code",
   "execution_count": null,
   "metadata": {},
   "outputs": [],
   "source": [
    "matrix"
   ]
  },
  {
   "cell_type": "code",
   "execution_count": null,
   "metadata": {},
   "outputs": [],
   "source": [
    "# create a array with all zero, and set the second element to 1.0.\n",
    "vector = np.empty((1,9,)); vector.fill(0)\n",
    "vector[0,][1] = 1\n",
    "vector"
   ]
  },
  {
   "cell_type": "code",
   "execution_count": null,
   "metadata": {},
   "outputs": [],
   "source": [
    "vector = np.asmatrix(vector)\n",
    "vector"
   ]
  },
  {
   "cell_type": "markdown",
   "metadata": {},
   "source": [
    "By using the Markov property: only the last state influences the next state\n",
    "$$p_{ij} = Pr\\{S_{n+1} = j | S_n = i, S_{n-1} = a, ..., S_0 = z\\} = Pr\\{S_{n+1} = j | S_n = i\\} = vector \\times matrix^n$$\n"
   ]
  },
  {
   "cell_type": "code",
   "execution_count": null,
   "metadata": {},
   "outputs": [],
   "source": [
    "prob = []\n",
    "for i in range(50):\n",
    "    p = vector * matrix ** i\n",
    "    prob.append(np.array(p).flatten())\n",
    "\n",
    "prob = np.array(prob)"
   ]
  },
  {
   "cell_type": "code",
   "execution_count": null,
   "metadata": {},
   "outputs": [],
   "source": [
    "prob"
   ]
  },
  {
   "cell_type": "code",
   "execution_count": null,
   "metadata": {},
   "outputs": [],
   "source": [
    "%matplotlib inline\n",
    "import seaborn; seaborn.set()  # set plot style\n",
    "from IPython.core.pylabtools import figsize\n",
    "figsize(11, 9)\n",
    "plt.xlabel('Steps')\n",
    "plt.ylabel('Probability')\n",
    "list = []\n",
    "for i in range(9):\n",
    "    data, = plt.plot(prob[:, i], color = plt.cm.RdYlBu(i/10), label=\"State %i\" % (i+1))\n",
    "    list.append(data)\n",
    "plt.legend(handles=list, loc=1)\n",
    "plt.show()"
   ]
  },
  {
   "cell_type": "markdown",
   "metadata": {},
   "source": [
    "According to the plot, we notice that the Markov Chain has reached stationary distribution after 15 steps, and $S_2$ has the highest probaiblity."
   ]
  },
  {
   "cell_type": "code",
   "execution_count": null,
   "metadata": {},
   "outputs": [],
   "source": [
    "import random\n",
    "import numpy\n",
    "\n",
    "M=numpy.zeros((52,52),dtype=int)\n",
    "z=0\n",
    "State_Space=[]\n",
    "\n",
    "for i in range(1,100):\n",
    "    x=random.randint(1,50)\n",
    "    y=random.randint(1,50)\n",
    "\n",
    "    T=M.copy()\n",
    "    if T[x][y]==1:\n",
    "        T[x][y]=0\n",
    "    if T[x][y]==0:\n",
    "        T[x][y]=1\n",
    "\n",
    "    if not any(numpy.array_equal(T, X) for X in State_Space):\n",
    "        if T[x+1][y+1]==0 and T[x+1][y-1]==0 and T[x-1][y-1]==0 and T[x-1][y+1]==0:\n",
    "            State_Space.append(T)\n",
    "            M=T\n",
    "    else:\n",
    "        if T[x+1][y+1]==0 and T[x+1][y-1]==0 and T[x-1][y-1]==0 and T[x-1][y+1]==0:\n",
    "            M=T\n",
    "print(len(State_Space))"
   ]
  },
  {
   "cell_type": "code",
   "execution_count": null,
   "metadata": {},
   "outputs": [],
   "source": [
    "import numpy as np \n",
    "import random\n",
    "\n",
    "N=100000\n",
    "a=np.random.rand(N)\n",
    "b=np.random.rand(N)\n",
    "c=(a**2+b**2)**(1/2)\n",
    "\n",
    "for i in range(len(c)):\n",
    "    if c[i]>1:\n",
    "        c[i]=0\n",
    "    else:\n",
    "        c[i]=1\n",
    "\n",
    "d=np.sum(c)\n",
    "pi=(d/N)*4\n",
    "print(pi)"
   ]
  },
  {
   "cell_type": "code",
   "execution_count": null,
   "metadata": {},
   "outputs": [],
   "source": []
  },
  {
   "cell_type": "code",
   "execution_count": null,
   "metadata": {},
   "outputs": [],
   "source": []
  }
 ],
 "metadata": {
  "language_info": {
   "name": "python",
   "pygments_lexer": "ipython3"
  }
 },
 "nbformat": 4,
 "nbformat_minor": 2
}
